{
 "cells": [
  {
   "cell_type": "markdown",
   "id": "b37f3133",
   "metadata": {},
   "source": [
    "### Importing important packages"
   ]
  },
  {
   "cell_type": "code",
   "execution_count": 1101,
   "id": "f2b3e0c8",
   "metadata": {},
   "outputs": [],
   "source": [
    "import torch\n",
    "import torchvision\n",
    "import torchvision.transforms as transforms\n",
    "import matplotlib.pyplot as plt\n",
    "import numpy as np\n",
    "import torch.nn as nn\n",
    "import torch.nn.functional as F\n",
    "import torch.optim as optim\n",
    "import time \n"
   ]
  },
  {
   "cell_type": "markdown",
   "id": "8e34c8bc",
   "metadata": {},
   "source": [
    "### Downloading the data, defining the training and testing sets, and defining the classes"
   ]
  },
  {
   "cell_type": "code",
   "execution_count": 1102,
   "id": "bf6a005b",
   "metadata": {},
   "outputs": [],
   "source": [
    "transform = transforms.Compose(\n",
    "    [transforms.ToTensor()])\n",
    "\n",
    "training = torchvision.datasets.FashionMNIST(root='./',download=True,train=True,transform=transform)\n",
    "testing = torchvision.datasets.FashionMNIST('./',download=True,train=False,transform=transform)\n",
    "\n",
    "trainloader = torch.utils.data.DataLoader(training, batch_size=10,shuffle=True)\n",
    "testloader = torch.utils.data.DataLoader(testing, batch_size=10,shuffle=True)\n",
    "\n",
    "\n",
    "\n",
    "classes = ('T-shirt','Trouser','Pullover','Dress','Coat','Sandal','Shirt','Sneaker','Bag','Ankle Boot')\n"
   ]
  },
  {
   "cell_type": "markdown",
   "id": "fe6e824b",
   "metadata": {},
   "source": [
    "### Defining the convolutional neural network, adding to an already existing neural net class"
   ]
  },
  {
   "cell_type": "code",
   "execution_count": 1103,
   "id": "8120f914",
   "metadata": {},
   "outputs": [],
   "source": [
    "class Net(nn.Module):\n",
    "    def __init__(self):\n",
    "        super(Net, self).__init__()\n",
    "        self.conv1 = nn.Conv2d(1,6,5,stride=2)\n",
    "        self.batchN1 = nn.BatchNorm2d(6)\n",
    "        self.pool = nn.MaxPool2d(2,2)\n",
    "        self.conv2 = nn.Conv2d(6,12,5,stride=2)\n",
    "        self.batchN2 = nn.BatchNorm1d(120)\n",
    "        self.fc1 = nn.Linear(12*4*4, 120)\n",
    "        self.fc2 = nn.Linear(120, 60)\n",
    "        self.fc3 = nn.Linear(60, 10)\n",
    "        \n",
    "    \n",
    "    def forward(self, x):\n",
    "        x = self.conv1(x)\n",
    "        x = F.max_pool2d(x,1,1)\n",
    "        x = F.relu(x)\n",
    "        x = self.batchN1(x)\n",
    "        \n",
    "        x = self.conv2(x)\n",
    "        x = F.max_pool2d(x,1,1)\n",
    "        x = F.relu(x)\n",
    "        \n",
    "        x = x.reshape(-1, 12*4*4)\n",
    "        x = F.relu(self.fc1(x))\n",
    "        x = self.batchN2(x)\n",
    "        x = F.relu(self.fc2(x))\n",
    "        x = self.fc3(x)\n",
    "        return x\n",
    "   \n",
    "net = Net()\n"
   ]
  },
  {
   "cell_type": "markdown",
   "id": "b2fc69eb",
   "metadata": {},
   "source": [
    "### Defining the device to perform the operations on, and also defining the loss and optimiser functions"
   ]
  },
  {
   "cell_type": "code",
   "execution_count": 1104,
   "id": "96ecc763",
   "metadata": {},
   "outputs": [],
   "source": [
    "device = torch.device('cpu')\n",
    "criterion = nn.CrossEntropyLoss()\n",
    "optimizer = optim.Adam(net.parameters(), lr=0.001)\n"
   ]
  },
  {
   "cell_type": "markdown",
   "id": "2accbc92",
   "metadata": {},
   "source": [
    "### Training the algorithm on the training set"
   ]
  },
  {
   "cell_type": "code",
   "execution_count": 1105,
   "id": "1e7cc7b1",
   "metadata": {},
   "outputs": [],
   "source": [
    "epoch_num = 2\n",
    "loss_list = []\n",
    "t0 = time.time()\n",
    "for epoch in range(epoch_num):\n",
    "    running_loss = 0.0\n",
    "    for i, data in enumerate(trainloader, 0):\n",
    "        inputs, labels = data\n",
    "        inputs, labels = inputs.to(device), labels.to(device)\n",
    "        \n",
    "        optimizer.zero_grad()\n",
    "        \n",
    "        outputs = net(inputs)\n",
    "        loss = criterion(outputs, labels)\n",
    "        loss.backward()\n",
    "        optimizer.step()\n",
    "        \n",
    "        running_loss += loss.item()\n",
    "        if i % 50 == 0:\n",
    "            loss_list.append(running_loss / 50)\n",
    "            running_loss = 0.0\n",
    "            #print(running_loss)\n",
    "            \n"
   ]
  },
  {
   "cell_type": "markdown",
   "id": "d9e0c88b",
   "metadata": {},
   "source": [
    "### Testing the network on the testing set"
   ]
  },
  {
   "cell_type": "code",
   "execution_count": 1106,
   "id": "92370bfe",
   "metadata": {},
   "outputs": [
    {
     "name": "stdout",
     "output_type": "stream",
     "text": [
      "Accuracy of T-shirt : 81 %\n",
      "Accuracy of Trouser : 85 %\n",
      "Accuracy of Pullover : 82 %\n",
      "Accuracy of Dress : 83 %\n",
      "Accuracy of  Coat : 81 %\n",
      "Accuracy of Sandal : 86 %\n",
      "Accuracy of Shirt : 76 %\n",
      "Accuracy of Sneaker : 86 %\n",
      "Accuracy of   Bag : 87 %\n",
      "Accuracy of Ankle Boot : 85 %\n"
     ]
    }
   ],
   "source": [
    "class_correct = list(0. for i in range(10))\n",
    "class_total = list(0. for i in range(10))\n",
    "\n",
    "with torch.no_grad():\n",
    "    for data in testloader:\n",
    "        images, labels = data\n",
    "        outputs = net(images)\n",
    "        _, predicted = torch.max(outputs, 1)\n",
    "        c = (predicted == labels).squeeze()\n",
    "        for i in range(4):\n",
    "            label = labels[i]\n",
    "            class_correct[label] += c[1].item()\n",
    "            class_total[label] += 1\n",
    "            \n",
    "for i in range(10):\n",
    "    print('Accuracy of %5s : %2d %%' % (classes[i], 100 * class_correct[i] / class_total[i]))\n",
    "t1 = time.time()\n",
    "total = t1-t0\n"
   ]
  },
  {
   "cell_type": "code",
   "execution_count": 1107,
   "id": "eb40e36d",
   "metadata": {},
   "outputs": [
    {
     "name": "stdout",
     "output_type": "stream",
     "text": [
      "Time taken to compute: 56.99s\n"
     ]
    }
   ],
   "source": [
    "print(f'Time taken to compute: {round(total, 2)}s')"
   ]
  }
 ],
 "metadata": {
  "kernelspec": {
   "display_name": "Python 3 (ipykernel)",
   "language": "python",
   "name": "python3"
  },
  "language_info": {
   "codemirror_mode": {
    "name": "ipython",
    "version": 3
   },
   "file_extension": ".py",
   "mimetype": "text/x-python",
   "name": "python",
   "nbconvert_exporter": "python",
   "pygments_lexer": "ipython3",
   "version": "3.9.12"
  }
 },
 "nbformat": 4,
 "nbformat_minor": 5
}
